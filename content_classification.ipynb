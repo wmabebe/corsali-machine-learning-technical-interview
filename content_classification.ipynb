{
 "cells": [
  {
   "cell_type": "code",
   "execution_count": 3,
   "metadata": {
    "colab": {
     "base_uri": "https://localhost:8080/"
    },
    "id": "eTSGXCdajkHh",
    "outputId": "3255bbc3-d6cf-44ba-e7c2-fcee61b2f497"
   },
   "outputs": [
    {
     "name": "stdout",
     "output_type": "stream",
     "text": [
      "Mounted at /content/drive\n",
      "/content/drive/My Drive/corsali-machine-learning-technical-interview\n"
     ]
    }
   ],
   "source": [
    "# Data analysis packages\n",
    "import pandas as pd\n",
    "import numpy as np\n",
    "from sklearn.model_selection import train_test_split\n",
    "\n",
    "# Deep learning packages\n",
    "import torch\n",
    "import torch.nn as nn\n",
    "import torch.utils.data\n",
    "from torch.utils.data import TensorDataset, DataLoader\n",
    "\n",
    "# Miscellaneous\n",
    "import bcolz\n",
    "import pickle\n",
    "import re"
   ]
  },
  {
   "cell_type": "markdown",
   "metadata": {
    "id": "cdAhapVfjkHi"
   },
   "source": [
    "### Table of Contents\n",
    "- [**1.0. Import the Data**](#section 1.0.)\n",
    "\n",
    "\n",
    "- [**2.0. Clean the Data**](#section 2.0.)\n",
    "  - [2.1. Lowercase All the Words](#section 2.1.)\n",
    "  - [2.2. Remove Short Forms](#section 2.2.)\n",
    "  - [2.3. Remove Punctuations and Symbols](#section 2.3.)\n",
    "\n",
    "\n",
    "- [**3.0. Data Pre-Processing**](#section 3.0.)\n",
    "  - [3.1. Tokenize the Titles](#section 3.1.)\n",
    "  - [3.2. Track Vocabulary](#section 3.2.)\n",
    "  - [3.3. Encode the Data](#section 3.3.)\n",
    "  - [3.4. Pad the Titles](#section 3.4.)\n",
    "  \n",
    "  \n",
    "- [**4.0. Define Training, Validation, and Test Set**](#section 4.0.)\n",
    "\n",
    "\n",
    "- [**5.0. Build Network Architecture**](#section 5.0.)\n",
    "  - [5.1. Import Pre-Trained Word Embeddings](#section 5.1.)\n",
    "  - [5.2. Define RNN Architecture](#section 5.2.)\n",
    "  - [5.3. Instantiate the network](#section 5.3.)\n",
    "  - [5.4. Training](#section 5.4.)\n",
    "\n",
    "\n",
    "- [**6.0. Prediction**](#section 6.0.)"
   ]
  },
  {
   "cell_type": "markdown",
   "metadata": {
    "id": "YfgOZAFkjkHj"
   },
   "source": [
    "---\n",
    "<a id='section 1.0.'></a>\n",
    "## 1.0. Import the Data"
   ]
  },
  {
   "cell_type": "code",
   "execution_count": 4,
   "metadata": {
    "colab": {
     "base_uri": "https://localhost:8080/",
     "height": 204
    },
    "id": "8AtfTXhljkHj",
    "outputId": "37fc3321-f2f7-43d2-bf32-36a7ef4baf57"
   },
   "outputs": [
    {
     "data": {
      "text/html": [
       "<div>\n",
       "<style scoped>\n",
       "    .dataframe tbody tr th:only-of-type {\n",
       "        vertical-align: middle;\n",
       "    }\n",
       "\n",
       "    .dataframe tbody tr th {\n",
       "        vertical-align: top;\n",
       "    }\n",
       "\n",
       "    .dataframe thead th {\n",
       "        text-align: right;\n",
       "    }\n",
       "</style>\n",
       "<table border=\"1\" class=\"dataframe\">\n",
       "  <thead>\n",
       "    <tr style=\"text-align: right;\">\n",
       "      <th></th>\n",
       "      <th>category</th>\n",
       "      <th>headline</th>\n",
       "      <th>authors</th>\n",
       "      <th>link</th>\n",
       "      <th>short_description</th>\n",
       "      <th>date</th>\n",
       "    </tr>\n",
       "  </thead>\n",
       "  <tbody>\n",
       "    <tr>\n",
       "      <th>0</th>\n",
       "      <td>CRIME</td>\n",
       "      <td>There Were 2 Mass Shootings In Texas Last Week...</td>\n",
       "      <td>Melissa Jeltsen</td>\n",
       "      <td>https://www.huffingtonpost.com/entry/texas-ama...</td>\n",
       "      <td>She left her husband. He killed their children...</td>\n",
       "      <td>2018-05-26</td>\n",
       "    </tr>\n",
       "    <tr>\n",
       "      <th>1</th>\n",
       "      <td>ENTERTAINMENT</td>\n",
       "      <td>Will Smith Joins Diplo And Nicky Jam For The 2...</td>\n",
       "      <td>Andy McDonald</td>\n",
       "      <td>https://www.huffingtonpost.com/entry/will-smit...</td>\n",
       "      <td>Of course it has a song.</td>\n",
       "      <td>2018-05-26</td>\n",
       "    </tr>\n",
       "    <tr>\n",
       "      <th>2</th>\n",
       "      <td>ENTERTAINMENT</td>\n",
       "      <td>Hugh Grant Marries For The First Time At Age 57</td>\n",
       "      <td>Ron Dicker</td>\n",
       "      <td>https://www.huffingtonpost.com/entry/hugh-gran...</td>\n",
       "      <td>The actor and his longtime girlfriend Anna Ebe...</td>\n",
       "      <td>2018-05-26</td>\n",
       "    </tr>\n",
       "    <tr>\n",
       "      <th>3</th>\n",
       "      <td>ENTERTAINMENT</td>\n",
       "      <td>Jim Carrey Blasts 'Castrato' Adam Schiff And D...</td>\n",
       "      <td>Ron Dicker</td>\n",
       "      <td>https://www.huffingtonpost.com/entry/jim-carre...</td>\n",
       "      <td>The actor gives Dems an ass-kicking for not fi...</td>\n",
       "      <td>2018-05-26</td>\n",
       "    </tr>\n",
       "    <tr>\n",
       "      <th>4</th>\n",
       "      <td>ENTERTAINMENT</td>\n",
       "      <td>Julianna Margulies Uses Donald Trump Poop Bags...</td>\n",
       "      <td>Ron Dicker</td>\n",
       "      <td>https://www.huffingtonpost.com/entry/julianna-...</td>\n",
       "      <td>The \"Dietland\" actress said using the bags is ...</td>\n",
       "      <td>2018-05-26</td>\n",
       "    </tr>\n",
       "  </tbody>\n",
       "</table>\n",
       "</div>"
      ],
      "text/plain": [
       "        category  ...       date\n",
       "0          CRIME  ... 2018-05-26\n",
       "1  ENTERTAINMENT  ... 2018-05-26\n",
       "2  ENTERTAINMENT  ... 2018-05-26\n",
       "3  ENTERTAINMENT  ... 2018-05-26\n",
       "4  ENTERTAINMENT  ... 2018-05-26\n",
       "\n",
       "[5 rows x 6 columns]"
      ]
     },
     "execution_count": 4,
     "metadata": {
      "tags": []
     },
     "output_type": "execute_result"
    }
   ],
   "source": [
    "# Import dataset\n",
    "df = pd.read_json('data/news_dataset.json',lines=True)\n",
    "\n",
    "# Show the first 5 rows the dataset\n",
    "df.head()"
   ]
  },
  {
   "cell_type": "markdown",
   "metadata": {
    "id": "woanE0r2jkHl"
   },
   "source": [
    "We only need data from `News Title` and `Category` column. So, we put them in the `titles` and `labels` variable, respectively. "
   ]
  },
  {
   "cell_type": "code",
   "execution_count": 5,
   "metadata": {
    "id": "peU4gKQVjkHl"
   },
   "outputs": [],
   "source": [
    "titles = df['headline']\n",
    "labels = df['category']"
   ]
  },
  {
   "cell_type": "markdown",
   "metadata": {
    "id": "-2t30v_gjkHl"
   },
   "source": [
    "Let's see the distribution of labels in the dataset."
   ]
  },
  {
   "cell_type": "code",
   "execution_count": 6,
   "metadata": {
    "colab": {
     "base_uri": "https://localhost:8080/"
    },
    "id": "rQzfO0ULjkHm",
    "outputId": "e833174a-99bd-403c-8868-444b56cdc19c"
   },
   "outputs": [
    {
     "name": "stdout",
     "output_type": "stream",
     "text": [
      "{'CRIME': 0, 'ENTERTAINMENT': 1, 'WORLD NEWS': 2, 'IMPACT': 3, 'POLITICS': 4, 'WEIRD NEWS': 5, 'BLACK VOICES': 6, 'WOMEN': 7, 'COMEDY': 8, 'QUEER VOICES': 9, 'SPORTS': 10, 'BUSINESS': 11, 'TRAVEL': 12, 'MEDIA': 13, 'TECH': 14, 'RELIGION': 15, 'SCIENCE': 16, 'LATINO VOICES': 17, 'EDUCATION': 18, 'COLLEGE': 19, 'PARENTS': 20, 'ARTS & CULTURE': 21, 'STYLE': 22, 'GREEN': 23, 'TASTE': 24, 'HEALTHY LIVING': 25, 'THE WORLDPOST': 26, 'GOOD NEWS': 27, 'WORLDPOST': 28, 'FIFTY': 29, 'ARTS': 30, 'WELLNESS': 31, 'PARENTING': 32, 'HOME & LIVING': 33, 'STYLE & BEAUTY': 34, 'DIVORCE': 35, 'WEDDINGS': 36, 'FOOD & DRINK': 37, 'MONEY': 38, 'ENVIRONMENT': 39, 'CULTURE & ARTS': 40}\n"
     ]
    }
   ],
   "source": [
    "dict_labels = {}\n",
    "for i,label in enumerate(labels.unique()):\n",
    "   dict_labels[label] = i\n",
    "print (dict_labels)"
   ]
  },
  {
   "cell_type": "markdown",
   "metadata": {
    "id": "IJLx2QHHjkHm"
   },
   "source": [
    "To enable analytics, we transform the label into integers by calling the following. "
   ]
  },
  {
   "cell_type": "code",
   "execution_count": 7,
   "metadata": {
    "id": "IaZUqXeIjkHn"
   },
   "outputs": [],
   "source": [
    "# Replace labels with integers\n",
    "labels = pd.Series(labels).replace(dict_labels)"
   ]
  },
  {
   "cell_type": "markdown",
   "metadata": {
    "id": "C3G1a16EjkHn"
   },
   "source": [
    "---\n",
    "<a id='section 2.0.'></a>\n",
    "## 2.0. Clean the Data\n",
    "To improve the predictive performance of the model, the following data cleaning are performed:\n",
    "- Lowercase all the words in the data\n",
    "- Remove short forms\n",
    "- Remove symbols and punctuations"
   ]
  },
  {
   "cell_type": "markdown",
   "metadata": {
    "id": "pMaEC_61jkHn"
   },
   "source": [
    "<a id='section 2.1.'></a>\n",
    "### 2.1. Lowercase All the Words\n",
    "Sentences can contain a mixture of uppercase and lower case letters. Multiple sentences make up a text document. To reduce the problem space, the most common approach is to reduce everything to lower case."
   ]
  },
  {
   "cell_type": "code",
   "execution_count": 8,
   "metadata": {
    "id": "YHgiUyhXjkHo"
   },
   "outputs": [],
   "source": [
    "# Lowercase all words\n",
    "titles = titles.apply(lambda x: x.lower())"
   ]
  },
  {
   "cell_type": "markdown",
   "metadata": {
    "id": "rgRmKFVujkHo"
   },
   "source": [
    "<a id='section 2.2.'></a>\n",
    "### 2.2. Remove Short Forms\n",
    "There are some short form words in the dataset. We will fix this."
   ]
  },
  {
   "cell_type": "code",
   "execution_count": 9,
   "metadata": {
    "id": "naHS4NqFjkHo"
   },
   "outputs": [],
   "source": [
    "# Dictionary of short form words and mispellings\n",
    "short_forms_dict = {\"ain't\": \"is not\", \"aren't\": \"are not\",\"can't\": \"cannot\", \n",
    "                    \"'cause\": \"because\", \"could've\": \"could have\", \"couldn't\": \"could not\", \n",
    "                    \"didn't\": \"did not\",  \"doesn't\": \"does not\", \"don't\": \"do not\", \"hadn't\": \"had not\", \n",
    "                    \"hasn't\": \"has not\", \"haven't\": \"have not\", \"he'd\": \"he would\",\"he'll\": \"he will\", \n",
    "                    \"he's\": \"he is\", \"how'd\": \"how did\", \"how'd'y\": \"how do you\", \"how'll\": \"how will\", \n",
    "                    \"how's\": \"how is\",  \"I'd\": \"I would\", \"I'd've\": \"I would have\", \"I'll\": \"I will\", \n",
    "                    \"I'll've\": \"I will have\",\"I'm\": \"I am\", \"I've\": \"I have\", \"i'd\": \"i would\", \n",
    "                    \"i'd've\": \"i would have\", \"i'll\": \"i will\",  \"i'll've\": \"i will have\",\"i'm\": \"i am\", \n",
    "                    \"i've\": \"i have\", \"isn't\": \"is not\", \"it'd\": \"it would\", \"it'd've\": \"it would have\", \n",
    "                    \"it'll\": \"it will\", \"it'll've\": \"it will have\",\"it's\": \"it is\", \"let's\": \"let us\", \n",
    "                    \"ma'am\": \"madam\", \"mayn't\": \"may not\", \"might've\": \"might have\",\"mightn't\": \"might not\",\n",
    "                    \"mightn't've\": \"might not have\", \"must've\": \"must have\", \"mustn't\": \"must not\", \n",
    "                    \"mustn't've\": \"must not have\", \"needn't\": \"need not\", \"needn't've\": \"need not have\",\n",
    "                    \"o'clock\": \"of the clock\", \"oughtn't\": \"ought not\", \"oughtn't've\": \"ought not have\", \n",
    "                    \"shan't\": \"shall not\", \"sha'n't\": \"shall not\", \"shan't've\": \"shall not have\", \n",
    "                    \"she'd\": \"she would\", \"she'd've\": \"she would have\", \"she'll\": \"she will\", \n",
    "                    \"she'll've\": \"she will have\", \"she's\": \"she is\", \"should've\": \"should have\", \n",
    "                    \"shouldn't\": \"should not\", \"shouldn't've\": \"should not have\", \"so've\": \"so have\",\n",
    "                    \"so's\": \"so as\", \"this's\": \"this is\",\"that'd\": \"that would\", \"that'd've\": \"that would have\", \n",
    "                    \"that's\": \"that is\", \"there'd\": \"there would\", \"there'd've\": \"there would have\", \n",
    "                    \"there's\": \"there is\", \"here's\": \"here is\",\"they'd\": \"they would\", \n",
    "                    \"they'd've\": \"they would have\", \"they'll\": \"they will\", \"they'll've\": \"they will have\", \n",
    "                    \"they're\": \"they are\", \"they've\": \"they have\", \"to've\": \"to have\", \"wasn't\": \"was not\", \n",
    "                    \"we'd\": \"we would\", \"we'd've\": \"we would have\", \"we'll\": \"we will\", \n",
    "                    \"we'll've\": \"we will have\", \"we're\": \"we are\", \"we've\": \"we have\", \n",
    "                    \"weren't\": \"were not\", \"what'll\": \"what will\", \"what'll've\": \"what will have\", \n",
    "                    \"what're\": \"what are\",  \"what's\": \"what is\", \"what've\": \"what have\", \n",
    "                    \"when's\": \"when is\", \"when've\": \"when have\", \"where'd\": \"where did\", \n",
    "                    \"where's\": \"where is\", \"where've\": \"where have\", \"who'll\": \"who will\", \n",
    "                    \"who'll've\": \"who will have\", \"who's\": \"who is\", \"who've\": \"who have\", \"why's\": \"why is\", \n",
    "                    \"why've\": \"why have\", \"will've\": \"will have\", \"won't\": \"will not\", \"won't've\": \"will not have\", \n",
    "                    \"would've\": \"would have\", \"wouldn't\": \"would not\", \"wouldn't've\": \"would not have\", \n",
    "                    \"y'all\": \"you all\", \"y'all'd\": \"you all would\",\"y'all'd've\": \"you all would have\",\n",
    "                    \"y'all're\": \"you all are\",\"y'all've\": \"you all have\",\"you'd\": \"you would\", \n",
    "                    \"you'd've\": \"you would have\", \"you'll\": \"you will\", \"you'll've\": \"you will have\", \n",
    "                    \"you're\": \"you are\", \"you've\": \"you have\"}"
   ]
  },
  {
   "cell_type": "markdown",
   "metadata": {
    "id": "-tKlLVkijkHq"
   },
   "source": [
    "We define `clean_shortforms` function to fix short forms."
   ]
  },
  {
   "cell_type": "code",
   "execution_count": 10,
   "metadata": {
    "id": "vKptXV43jkHq"
   },
   "outputs": [],
   "source": [
    "def clean_shortforms(text):\n",
    "    clean_text = text\n",
    "    for shortform in short_forms_dict.keys():\n",
    "        if re.search(shortform, text):\n",
    "            clean_text = re.sub(shortform, short_forms_dict[shortform], text)\n",
    "    return clean_text\n",
    "\n",
    "# fix short forms\n",
    "titles = titles.apply(lambda x: clean_shortforms(x))"
   ]
  },
  {
   "cell_type": "markdown",
   "metadata": {
    "id": "gpwzdVW2jkHq"
   },
   "source": [
    "<a id='section 2.3.'></a>\n",
    "### 2.3. Remove Punctuations and Symbols\n",
    "We will remove all punctuations and symbols from the dataset using `clean_symbol` function. "
   ]
  },
  {
   "cell_type": "code",
   "execution_count": 11,
   "metadata": {
    "id": "kFevYOp-jkHq"
   },
   "outputs": [],
   "source": [
    "symbols = [',', '.', '\"', ':', ')', '(', '-', '!', '?', '|', \n",
    "           ';', \"'\", '$', '&', '/', '[', ']', '>', '%', '=', \n",
    "           '#', '*', '+', '\\\\', '•',  '~', '@', '£', '·', '_', \n",
    "           '{', '}', '©', '^', '®', '`',  '<', '→', '°', '€', \n",
    "           '™', '›',  '♥', '←', '×', '§', '″', '′', 'Â', '█', \n",
    "           '½', 'à', '…', '“', '★', '”', '–', '●', 'â', '►', \n",
    "           '−', '¢', '²', '¬', '░', '¶', '↑', '±', '¿', '▾', \n",
    "           '═', '¦', '║', '―', '¥', '▓', '—', '‹', '─', '▒', '：', \n",
    "           '¼', '⊕', '▼', '▪', '†', '■', '’', '▀', '¨', '▄', '♫', \n",
    "           '☆', 'é', '¯', '♦', '¤', '▲', 'è', '¸', '¾', 'Ã', '⋅', \n",
    "           '‘', '∞', '∙', '）', '↓', '、', '│', '（', '»', '，', '♪', \n",
    "           '╩', '╚', '³', '・', '╦', '╣', '╔', '╗', '▬', '❤', 'ï', 'Ø', \n",
    "           '¹', '≤', '‡', '√', ]"
   ]
  },
  {
   "cell_type": "code",
   "execution_count": 12,
   "metadata": {
    "id": "v9zrlAO2jkHr"
   },
   "outputs": [],
   "source": [
    "def clean_symbol(text):\n",
    "    text = str(text)\n",
    "    for symbol in symbols:\n",
    "        text = text.replace(symbol, '')\n",
    "    return text\n",
    "\n",
    "# remove symbols and punctuations \n",
    "titles = titles.apply(lambda x: clean_symbol(x))"
   ]
  },
  {
   "cell_type": "markdown",
   "metadata": {
    "id": "otusqTxmjkHr"
   },
   "source": [
    "---\n",
    "<a id='section 3.0.'></a>\n",
    "## 3.0. Data Pre-Processing\n",
    "We will implement the following pre-processing functions:\n",
    "- Tokenize the titles\n",
    "- Track vocabulary\n",
    "- Encode the data\n",
    "- Pad the titles"
   ]
  },
  {
   "cell_type": "markdown",
   "metadata": {
    "id": "KdwJWJA-jkHr"
   },
   "source": [
    "<a id='section 3.1.'></a>\n",
    "### 3.1. Tokenize the Titles\n",
    "We will be splitting the titles into a word array using spaces as delimiters."
   ]
  },
  {
   "cell_type": "code",
   "execution_count": 13,
   "metadata": {
    "colab": {
     "base_uri": "https://localhost:8080/"
    },
    "id": "6yEfS1QYjkHs",
    "outputId": "2818d108-394d-4237-d2a0-71e9722a17c0"
   },
   "outputs": [
    {
     "data": {
      "text/plain": [
       "['there',\n",
       " 'were',\n",
       " '2',\n",
       " 'mass',\n",
       " 'shootings',\n",
       " 'in',\n",
       " 'texas',\n",
       " 'last',\n",
       " 'week',\n",
       " 'but',\n",
       " 'only',\n",
       " '1',\n",
       " 'on',\n",
       " 'tv']"
      ]
     },
     "execution_count": 13,
     "metadata": {
      "tags": []
     },
     "output_type": "execute_result"
    }
   ],
   "source": [
    "# tokenize all titles in the data\n",
    "titles_token = titles.apply(lambda x: x.split())\n",
    "titles_token[0]"
   ]
  },
  {
   "cell_type": "code",
   "execution_count": 14,
   "metadata": {
    "colab": {
     "base_uri": "https://localhost:8080/"
    },
    "id": "WX0VvxqTjkHs",
    "outputId": "26f08d78-7510-455d-ef58-d54d8570e29a"
   },
   "outputs": [
    {
     "name": "stdout",
     "output_type": "stream",
     "text": [
      "Average word length of titles is 10.\n",
      "Max word length of titles is 43.\n",
      "Min word length of titles is 0.\n"
     ]
    }
   ],
   "source": [
    "print('Average word length of titles is {0:.0f}.'.format(np.mean(titles_token.apply(lambda x: len(x)))))\n",
    "print('Max word length of titles is {0:.0f}.'.format(np.max(titles_token.apply(lambda x: len(x)))))\n",
    "print('Min word length of titles is {0:.0f}.'.format(np.min(titles_token.apply(lambda x: len(x)))))"
   ]
  },
  {
   "cell_type": "code",
   "execution_count": 15,
   "metadata": {
    "colab": {
     "base_uri": "https://localhost:8080/"
    },
    "id": "C-zlzvyAjkHs",
    "outputId": "a10d31ab-d83c-4cbc-f1b4-d6ea8f0bb149"
   },
   "outputs": [
    {
     "data": {
      "text/plain": [
       "10    26436\n",
       "9     24891\n",
       "11    24594\n",
       "8     21527\n",
       "12    19774\n",
       "7     16854\n",
       "13    13986\n",
       "6     12998\n",
       "5      9191\n",
       "14     8860\n",
       "4      5986\n",
       "15     5226\n",
       "3      3287\n",
       "16     2809\n",
       "2      1420\n",
       "17     1359\n",
       "18      666\n",
       "19      320\n",
       "1       255\n",
       "20      182\n",
       "21      101\n",
       "22       58\n",
       "23       26\n",
       "24       13\n",
       "0         6\n",
       "25        6\n",
       "26        6\n",
       "27        6\n",
       "28        4\n",
       "30        2\n",
       "38        1\n",
       "29        1\n",
       "33        1\n",
       "43        1\n",
       "dtype: int64"
      ]
     },
     "execution_count": 15,
     "metadata": {
      "tags": []
     },
     "output_type": "execute_result"
    }
   ],
   "source": [
    "# Distribution of word length of titles\n",
    "count = [len(title) for title in titles_token]\n",
    "pd.Series(count).value_counts()"
   ]
  },
  {
   "cell_type": "code",
   "execution_count": 16,
   "metadata": {
    "id": "Ep7O2ayRjkHt"
   },
   "outputs": [],
   "source": [
    "# Exclude all titles that have 0 words\n",
    "titles_token = [title for title in titles_token if len(title) > 0]\n",
    "labels = np.array([label for title, label in zip(titles_token, labels) if len(title) > 0])"
   ]
  },
  {
   "cell_type": "markdown",
   "metadata": {
    "id": "3Jrn5XEwjkHt"
   },
   "source": [
    "<a id='section 3.2.'></a>\n",
    "### 3.2. Track Vocabulary\n",
    "We define `track_vocab` to track our training vocabulary, which goes through all our text and counts the occurence of the contained words."
   ]
  },
  {
   "cell_type": "code",
   "execution_count": 17,
   "metadata": {
    "id": "poqorZIPjkHt"
   },
   "outputs": [],
   "source": [
    "def track_vocab(sentences, verbose =  True):\n",
    "    \n",
    "    vocab = {}\n",
    "    for sentence in sentences:\n",
    "        for word in sentence:\n",
    "            try:\n",
    "                vocab[word] += 1\n",
    "            except KeyError:\n",
    "                vocab[word] = 1\n",
    "                \n",
    "    return vocab"
   ]
  },
  {
   "cell_type": "code",
   "execution_count": 18,
   "metadata": {
    "colab": {
     "base_uri": "https://localhost:8080/"
    },
    "id": "s-R__DtujkHt",
    "outputId": "b7b2a62c-bcee-4419-c903-b28a799ca9bf"
   },
   "outputs": [
    {
     "name": "stdout",
     "output_type": "stream",
     "text": [
      "{'there': 1072, 'were': 754, '2': 1163, 'mass': 269, 'shootings': 122}\n"
     ]
    }
   ],
   "source": [
    "# count the occurrence of all words in the data\n",
    "vocab_count = track_vocab(titles_token)\n",
    "print({k: vocab_count[k] for k in list(vocab_count)[:5]})"
   ]
  },
  {
   "cell_type": "markdown",
   "metadata": {
    "id": "dBHG6JGOjkHt"
   },
   "source": [
    "<a id='section 3.3.'></a>\n",
    "### 3.3. Encode the Data\n",
    "Since we will use embedding layers, we'll need to encode each word with an integer. To create a word embedding, we first need to transform the words to ids.  In this function, we create two dictionaries:\n",
    "- Dictionary to go from the words to an id, we'll call `vocab_to_int`\n",
    "- Dictionary to go from the id to word, we'll call `int_to_vocab`\n",
    "\n",
    "We return these dictionaries in the **tuple** `(vocab_to_int, int_to_vocab)`"
   ]
  },
  {
   "cell_type": "code",
   "execution_count": 19,
   "metadata": {
    "id": "6l7KRpIVjkHu"
   },
   "outputs": [],
   "source": [
    "def create_lookup_tables(vocab_count):\n",
    "    \n",
    "    # sorting the words from most to least frequent in text occurrence\n",
    "    sorted_vocab = sorted(vocab_count, key=vocab_count.get, reverse=True)\n",
    "    # create vocab_to_int dictionary\n",
    "    int_to_vocab = {ii: word for ii, word in enumerate(sorted_vocab)}\n",
    "    vocab_to_int = {word: ii for ii, word in int_to_vocab.items()}\n",
    "    \n",
    "    # return tuple\n",
    "    return (vocab_to_int, int_to_vocab)\n",
    "\n",
    "vocab_to_int, int_to_vocab = create_lookup_tables(vocab_count)"
   ]
  },
  {
   "cell_type": "markdown",
   "metadata": {
    "id": "IaVFx812jkHu"
   },
   "source": [
    "Then, we can convert our data into integers, so they can be passed into the network."
   ]
  },
  {
   "cell_type": "code",
   "execution_count": 20,
   "metadata": {
    "colab": {
     "base_uri": "https://localhost:8080/"
    },
    "id": "hulGY64KjkHu",
    "outputId": "99ccbb6d-eb24-4b78-9394-67bd9cba53c1"
   },
   "outputs": [
    {
     "data": {
      "text/plain": [
       "200847"
      ]
     },
     "execution_count": 20,
     "metadata": {
      "tags": []
     },
     "output_type": "execute_result"
    }
   ],
   "source": [
    "# encode the data\n",
    "title_ints = []\n",
    "for title in titles_token:\n",
    "    title_ints.append([vocab_to_int[word] for word in title])\n",
    "len(title_ints)"
   ]
  },
  {
   "cell_type": "markdown",
   "metadata": {
    "id": "VQA97FO7jkHu"
   },
   "source": [
    "<a id='section 3.4.'></a>\n",
    "### 3.4. Pad the Titles\n",
    "To deal with both short and very long title, we'll pad or truncate all our titles to a specific length. For titles shorter than some seq_length, we'll pad with 0s. For titles longer than `seq_length`, we can truncate them to the first seq_length words. A good `seq_length`, in this case, is 20, because the maximum title length from the data is 20."
   ]
  },
  {
   "cell_type": "code",
   "execution_count": 21,
   "metadata": {
    "colab": {
     "base_uri": "https://localhost:8080/"
    },
    "id": "MifH-j5mjkHv",
    "outputId": "cbbc335c-c34d-488f-fb4d-990364f0b904"
   },
   "outputs": [
    {
     "data": {
      "text/plain": [
       "array([    0,     0,     0,     0,     0,     0,    26,  1032,  1637,\n",
       "       18864,     7, 15971,  4059,     5,     0,  1472,    67,  6560,\n",
       "         800,   696])"
      ]
     },
     "execution_count": 21,
     "metadata": {
      "tags": []
     },
     "output_type": "execute_result"
    }
   ],
   "source": [
    "def pad_features(sentences_token, seq_length):\n",
    "    # getting the correct rows x cols shape\n",
    "    features = np.zeros((len(sentences_token), seq_length), dtype=int)\n",
    "\n",
    "    # for each title, I grab that title and \n",
    "    for i, row in enumerate(sentences_token):\n",
    "        features[i, -len(row):] = np.array(row)[:seq_length]\n",
    "    \n",
    "    return features\n",
    "\n",
    "# pad the titles\n",
    "seq_length = 20\n",
    "features = pad_features(title_ints, seq_length)\n",
    "features[1]"
   ]
  },
  {
   "cell_type": "markdown",
   "metadata": {
    "id": "Zm8GKgNrjkHv"
   },
   "source": [
    "---\n",
    "<a id='section 4.0.'></a>\n",
    "## 4.0. Define Training, Validation, and Test Set\n",
    "With our data in nice shape, we'll split it into training, validation, and test sets."
   ]
  },
  {
   "cell_type": "code",
   "execution_count": 22,
   "metadata": {
    "id": "6QinZuCYjkHv"
   },
   "outputs": [],
   "source": [
    "train_X, val_test_X, train_y, val_test_y = train_test_split(features, labels, \n",
    "                                                            test_size=0.2, \n",
    "                                                            random_state=42, shuffle=True,\n",
    "                                                            stratify=labels)\n",
    "\n",
    "val_X, test_X, val_y, test_y = train_test_split(val_test_X, val_test_y, \n",
    "                                                test_size=0.5, \n",
    "                                                random_state=42, shuffle=True,\n",
    "                                                stratify=val_test_y)"
   ]
  },
  {
   "cell_type": "markdown",
   "metadata": {
    "id": "77cF8tJmjkHv"
   },
   "source": [
    "### DataLoaders and Batching\n",
    "After creating training, test, and validation data, we can create DataLoaders for this data by following two steps:\n",
    "1. Create a known format for accessing our data, using [TensorDataset](https://pytorch.org/docs/stable/data.html#) which takes in an input set of data and a target set of data with the same first dimension, and creates a dataset.\n",
    "2. Create DataLoaders and batch our training, validation, and test Tensor datasets."
   ]
  },
  {
   "cell_type": "code",
   "execution_count": 24,
   "metadata": {
    "colab": {
     "base_uri": "https://localhost:8080/"
    },
    "id": "5AtviWyyjkHv",
    "outputId": "e568c119-6f75-45e8-b3b1-667758459987"
   },
   "outputs": [
    {
     "name": "stderr",
     "output_type": "stream",
     "text": [
      "/usr/local/lib/python3.7/dist-packages/torch/utils/data/dataloader.py:481: UserWarning: This DataLoader will create 8 worker processes in total. Our suggested max number of worker in current system is 2, which is smaller than what this DataLoader is going to create. Please be aware that excessive worker creation might get DataLoader running slow or even freeze, lower the worker number to avoid potential slowness/freeze if necessary.\n",
      "  cpuset_checked))\n"
     ]
    }
   ],
   "source": [
    "# create Tensor datasets\n",
    "train_data = TensorDataset(torch.from_numpy(train_X), torch.from_numpy(train_y))\n",
    "valid_data = TensorDataset(torch.from_numpy(val_X), torch.from_numpy(val_y))\n",
    "test_data = TensorDataset(torch.from_numpy(test_X), torch.from_numpy(test_y))\n",
    "\n",
    "# dataloaders\n",
    "batch_size = 256\n",
    "num_workers = 8\n",
    "\n",
    "# make sure to SHUFFLE the training data\n",
    "train_loader = DataLoader(train_data, shuffle=True, batch_size=batch_size, num_workers=num_workers)\n",
    "valid_loader = DataLoader(valid_data, shuffle=True, batch_size=batch_size, num_workers=num_workers)\n",
    "test_loader = DataLoader(test_data, shuffle=True, batch_size=batch_size, num_workers=num_workers)"
   ]
  },
  {
   "cell_type": "code",
   "execution_count": 25,
   "metadata": {
    "colab": {
     "base_uri": "https://localhost:8080/"
    },
    "id": "Hu9W1-qVjkHw",
    "outputId": "72348416-e93a-4fc8-cb0b-ea2dd9f56c26",
    "scrolled": true
   },
   "outputs": [
    {
     "name": "stderr",
     "output_type": "stream",
     "text": [
      "/usr/local/lib/python3.7/dist-packages/torch/utils/data/dataloader.py:481: UserWarning: This DataLoader will create 8 worker processes in total. Our suggested max number of worker in current system is 2, which is smaller than what this DataLoader is going to create. Please be aware that excessive worker creation might get DataLoader running slow or even freeze, lower the worker number to avoid potential slowness/freeze if necessary.\n",
      "  cpuset_checked))\n"
     ]
    },
    {
     "name": "stdout",
     "output_type": "stream",
     "text": [
      "Sample input size:  torch.Size([256, 20])\n",
      "Sample input: \n",
      " tensor([[    0,     0,     0,  ...,    89,  7435, 14071],\n",
      "        [    0,     0,     0,  ...,    17,   113,   178],\n",
      "        [    0,     0,     0,  ...,    94,  4466,  2131],\n",
      "        ...,\n",
      "        [    0,     0,     0,  ..., 47100,     2,  1216],\n",
      "        [    0,     0,     0,  ...,   731,  1323,   600],\n",
      "        [    0,     0,     0,  ...,   125,     0,  3871]])\n",
      "\n",
      "Sample label size:  torch.Size([256])\n",
      "Sample label: \n",
      " tensor([37, 38,  4, 26,  1, 18, 31,  0, 32, 31,  1,  9, 35,  4, 35,  8, 40, 20,\n",
      "        17, 12, 11, 12,  1, 37, 21,  1,  3,  4,  6,  3,  4,  4,  4, 33,  1,  0,\n",
      "        20, 33, 25,  7, 20, 11, 36,  2, 37, 34,  3, 12, 20, 33,  0,  3,  4,  4,\n",
      "         1,  4, 38,  2, 22, 31,  4,  4,  6, 12, 12, 26,  4,  4, 26, 24, 23,  3,\n",
      "         4,  1, 33, 11,  0,  4, 32,  8, 29, 38,  4, 31, 33, 11,  7, 32, 31, 32,\n",
      "         4, 32,  4,  7, 20, 37,  4,  1, 37,  8,  6,  0,  0,  4,  4, 11,  4, 15,\n",
      "        13,  4, 29,  2, 26, 23, 31,  4, 31,  5,  5,  4, 31,  4, 26, 37, 34, 26,\n",
      "         7,  8, 37, 26,  1,  4, 37,  5, 31,  4,  6, 37, 34, 37,  4, 15,  3, 12,\n",
      "         1, 37, 30,  4,  4, 37, 37, 10,  9, 31,  4,  5, 23, 36,  4, 31, 25,  5,\n",
      "        25, 25,  3, 18, 25, 34, 37, 35, 10,  1, 33, 11, 37, 35, 33, 31, 34, 31,\n",
      "        38,  4, 13, 32, 34,  7, 13, 34, 34, 11,  8,  9,  8, 35,  3,  4,  8, 37,\n",
      "        32, 11, 12,  8,  0,  9, 37, 23,  4, 12, 33,  0,  1, 32, 32,  6,  4, 34,\n",
      "         1,  9, 11,  1,  6, 31,  4, 32, 11, 37, 31,  3, 17, 31,  4, 37,  4, 14,\n",
      "         4,  4, 39, 22,  1, 31,  4, 31, 15, 31,  0, 12, 25, 31, 12,  4,  2, 32,\n",
      "        10,  3,  4,  4])\n"
     ]
    }
   ],
   "source": [
    "# obtain one batch of training data\n",
    "dataiter = iter(train_loader)\n",
    "sample_x, sample_y = dataiter.next()\n",
    "\n",
    "print('Sample input size: ', sample_x.size()) # batch_size, seq_length\n",
    "print('Sample input: \\n', sample_x)\n",
    "print()\n",
    "print('Sample label size: ', sample_y.size()) # batch_size\n",
    "print('Sample label: \\n', sample_y)"
   ]
  },
  {
   "cell_type": "markdown",
   "metadata": {
    "id": "qhFGdiyxjkHw"
   },
   "source": [
    "<a id='section 5.0.'></a>\n",
    "## 5.0. Build Network Architecture\n",
    "<a id='section 5.1.'></a>\n",
    "### 5.1. Import Pre-Trained Word Embeddings\n",
    "**Note**: This part is taken from a Medium article [How to use Pre-trained Word Embeddings in PyTorch](https://medium.com/@martinpella/how-to-use-pre-trained-word-embeddings-in-pytorch-71ca59249f76). \n",
    "\n",
    "Rather than training our own word vectors from scratch for word embedding, we will leverage on GloVe. Its authors have released four text files with word vectors trained on different massive web datasets. They are available for download [here](https://nlp.stanford.edu/projects/glove/). We will use “Wikipedia 2014 + Gigaword 5” which is the smallest file (“ [glove.6B.zip](http://nlp.stanford.edu/data/wordvecs/glove.6B.zip)”) with 822 MB. It was trained on a corpus of 6 billion tokens and contains a vocabulary of 400 thousand tokens.\n",
    "\n",
    "We need to parse the file to get as output: list of words, dictionary mapping each word to their id (position) and array of vectors. Given that the vocabulary have 400k tokens, we will use [bcolz](https://github.com/Blosc/bcolz) to store the array of vectors. It provides columnar, chunked data containers that can be compressed either in-memory and on-disk. It is based on NumPy, and uses it as the standard data container to communicate with bcolz objects. We then save the outputs to disk for future uses."
   ]
  },
  {
   "cell_type": "code",
   "execution_count": 26,
   "metadata": {
    "id": "HxxKGuuzjkHw"
   },
   "outputs": [],
   "source": [
    "words = []\n",
    "idx = 0\n",
    "word2idx = {}\n",
    "vectors = bcolz.carray(np.zeros(1), rootdir=f'embedding/glove/6B.300.dat', mode='w')\n",
    "\n",
    "with open(f'embedding/glove/glove.6B.300d.txt', 'rb') as f:\n",
    "    for l in f:\n",
    "        line = l.decode().split()\n",
    "        word = line[0]\n",
    "        words.append(word)\n",
    "        word2idx[word] = idx\n",
    "        idx += 1\n",
    "        vect = np.array(line[1:]).astype(np.float)\n",
    "        vectors.append(vect)\n",
    "    \n",
    "vectors = bcolz.carray(vectors[1:].reshape((400000, 300)), rootdir=f'embedding/glove/6B.300.dat', mode='w')\n",
    "vectors.flush()\n",
    "pickle.dump(words, open(f'embedding/glove/6B.300_words.pkl', 'wb'))\n",
    "pickle.dump(word2idx, open(f'embedding/glove/6B.300_idx.pkl', 'wb'))"
   ]
  },
  {
   "cell_type": "markdown",
   "metadata": {
    "id": "fqlb80BAjkHx"
   },
   "source": [
    "Using those objects we can now create a dictionary that given a word returns its vector."
   ]
  },
  {
   "cell_type": "code",
   "execution_count": 27,
   "metadata": {
    "id": "ocN0hn2HjkHx"
   },
   "outputs": [],
   "source": [
    "vectors = bcolz.open(f'embedding/glove/6B.300.dat')[:]\n",
    "words = pickle.load(open(f'embedding/glove/6B.300_words.pkl', 'rb'))\n",
    "word2idx = pickle.load(open(f'embedding/glove/6B.300_idx.pkl', 'rb'))\n",
    "\n",
    "glove = {w: vectors[word2idx[w]] for w in words}"
   ]
  },
  {
   "cell_type": "markdown",
   "metadata": {
    "id": "3VDdWXjEjkHx"
   },
   "source": [
    "What we need to do at this point is to create an embedding layer, that is a dictionary mapping integer indices (that represent words) to dense vectors. It takes as input integers, it looks up these integers into an internal dictionary, and it returns the associated vectors.\n",
    "\n",
    "We have already built a Python dictionary with similar characteristics, but it does not support auto differentiation so can not be used as a neural network layer and was also built based on GloVe’s vocabulary, likely different from our dataset’s vocabulary. In PyTorch an embedding layer is available through torch.nn.Embedding class.\n",
    "\n",
    "We must build a matrix of weights that will be loaded into the PyTorch embedding layer. Its shape will be equal to (dataset’s vocabulary length, word vectors dimension).\n",
    "\n",
    "For each word in dataset’s vocabulary, we check if it is on GloVe’s vocabulary. If it do it, we load its pre-trained word vector. Otherwise, we initialize a random vector."
   ]
  },
  {
   "cell_type": "code",
   "execution_count": 28,
   "metadata": {
    "id": "5Bpf3Op8jkHx"
   },
   "outputs": [],
   "source": [
    "sorted_vocab = sorted(vocab_count, key=vocab_count.get, reverse=True)\n",
    "target_vocab = sorted_vocab\n",
    "emb_dim = 300\n",
    "\n",
    "matrix_len = len(target_vocab)\n",
    "weights_matrix = np.zeros((matrix_len, emb_dim))\n",
    "words_found = 0\n",
    "\n",
    "for i, word in enumerate(target_vocab):\n",
    "    try: \n",
    "        weights_matrix[i] = glove[word]\n",
    "        words_found += 1\n",
    "    except KeyError:\n",
    "        weights_matrix[i] = np.random.normal(scale=0.6, size=(emb_dim, ))"
   ]
  },
  {
   "cell_type": "code",
   "execution_count": 29,
   "metadata": {
    "id": "KRR6eJEOjkHx"
   },
   "outputs": [],
   "source": [
    "def create_emb_layer(weights_matrix, non_trainable=False):\n",
    "    num_embeddings, embedding_dim = weights_matrix.shape\n",
    "    emb_layer = nn.Embedding(num_embeddings, embedding_dim)\n",
    "    emb_layer.load_state_dict({'weight': torch.from_numpy(weights_matrix)})\n",
    "    if non_trainable:\n",
    "        emb_layer.weight.requires_grad = False\n",
    "\n",
    "    return emb_layer, num_embeddings, embedding_dim"
   ]
  },
  {
   "cell_type": "markdown",
   "metadata": {
    "id": "zh0WQTYajkHy"
   },
   "source": [
    "<a id='section 5.2.'></a>\n",
    "### 5.2. Define RNN Architecture\n",
    "\n",
    "In this model, we use multiple bidirectional GRU/LSTM layers in the network. The bidirectional LSTM/GRU keeps the contextual information in both directions which is pretty useful in text classification task. \n",
    "\n",
    "We also use attention model to build our model architecture. In the past conventional methods like TFIDF/CountVectorizer etc., we used to find features from text by doing a keyword extraction. Some word are more helpful in determining the category of a text than others. But in this method we sort of lost the sequential structure of text. With LSTM and deep learning methods while we are able to take case of the sequence structure we lose the ability to give higher weightage to more important words. Attention mechanism is introduced to extract such words that are important to the meaning of the sentence and aggregate the representation of those informative words to form a sentence vector."
   ]
  },
  {
   "cell_type": "code",
   "execution_count": 30,
   "metadata": {
    "colab": {
     "base_uri": "https://localhost:8080/"
    },
    "id": "PAkJt5KKjkHy",
    "outputId": "f505291b-409f-41f4-93ee-2d6053a6b465"
   },
   "outputs": [
    {
     "name": "stdout",
     "output_type": "stream",
     "text": [
      "Training on GPU.\n"
     ]
    }
   ],
   "source": [
    "# First checking if GPU is available\n",
    "train_on_gpu=torch.cuda.is_available()\n",
    "\n",
    "if(train_on_gpu):\n",
    "    print('Training on GPU.')\n",
    "else:\n",
    "    print('No GPU available, training on CPU.')"
   ]
  },
  {
   "cell_type": "code",
   "execution_count": 31,
   "metadata": {
    "id": "-zh9MNiGjkHy"
   },
   "outputs": [],
   "source": [
    "# implementation of attention layer\n",
    "class Attention(nn.Module):\n",
    "    def __init__(self, feature_dim, step_dim, bias=True, **kwargs):\n",
    "        super(Attention, self).__init__(**kwargs)\n",
    "        \n",
    "        self.supports_masking = True\n",
    "\n",
    "        self.bias = bias\n",
    "        self.feature_dim = feature_dim\n",
    "        self.step_dim = step_dim\n",
    "        self.features_dim = 0\n",
    "        \n",
    "        weight = torch.zeros(feature_dim, 1)\n",
    "        nn.init.kaiming_uniform_(weight)\n",
    "        self.weight = nn.Parameter(weight)\n",
    "        \n",
    "        if bias:\n",
    "            self.b = nn.Parameter(torch.zeros(step_dim))\n",
    "        \n",
    "    def forward(self, x, mask=None):\n",
    "        feature_dim = self.feature_dim \n",
    "        step_dim = self.step_dim\n",
    "\n",
    "        eij = torch.mm(\n",
    "            x.contiguous().view(-1, feature_dim), \n",
    "            self.weight\n",
    "        ).view(-1, step_dim)\n",
    "        \n",
    "        if self.bias:\n",
    "            eij = eij + self.b\n",
    "            \n",
    "        eij = torch.tanh(eij)\n",
    "        a = torch.exp(eij)\n",
    "        \n",
    "        if mask is not None:\n",
    "            a = a * mask\n",
    "\n",
    "        a = a / (torch.sum(a, 1, keepdim=True) + 1e-10)\n",
    "\n",
    "        weighted_input = x * torch.unsqueeze(a, -1)\n",
    "        return torch.sum(weighted_input, 1)"
   ]
  },
  {
   "cell_type": "markdown",
   "metadata": {
    "id": "enF4B1NJjkHy"
   },
   "source": [
    ">**First, we'll pass in words to an embedding layer.** We need an embedding layer because we have tens to hundreds of thousands of words, so we will need a more efficient representation for our input data than one-hot encoded vectors. \n",
    "\n",
    ">**After input words are passed to an embedding layer, the new embeddings will be passed to bidirectional LSTM/GRU layers.** These layers will add *recurrent* connections to the network and give us the ability to include information about the *sequence* of words in our data. The bidirectional LSTM/GRU layers keep the contextual information in both directions which is pretty useful in text classification task. \n",
    "\n",
    ">**The outputs of the bidirectional LSTM/GRU layers will be passed to the attention layer.** Attention mechanism is introduced to extract such words that are important to the meaning of the sentence and aggregate the representation of those informative words to form a sentence vector.\n",
    "\n",
    ">**The outputs of the attention layer will be passed to the second bidirectional LSTM/GRU layers.** \n",
    "\n",
    ">**Finally, the outputs will go to a output layer.** We are using a fully-connected neural network layer."
   ]
  },
  {
   "cell_type": "code",
   "execution_count": 49,
   "metadata": {
    "id": "WIa8Z0gnjkHz"
   },
   "outputs": [],
   "source": [
    "import torch.nn as nn\n",
    "\n",
    "class RNN(nn.Module):\n",
    "    \"\"\"\n",
    "    The RNN model that will be used to perform classification.\n",
    "    \"\"\"\n",
    "\n",
    "    def __init__(self, weights_matrix, output_size, hidden_dim, drop_prob=0.1):\n",
    "        \"\"\"\n",
    "        Initialize the model by setting up the layers.\n",
    "        \"\"\"\n",
    "        super(RNN, self).__init__()\n",
    "\n",
    "        self.output_size = output_size\n",
    "        self.hidden_dim = hidden_dim\n",
    "        \n",
    "        # embedding layers\n",
    "        self.embedding, self.num_embeddings, self.embedding_dim = create_emb_layer(weights_matrix, True)\n",
    "        \n",
    "        # embedding dropout\n",
    "        self.dropout = nn.Dropout2d(drop_prob)\n",
    "        \n",
    "        # First lstm and GRU layers\n",
    "        self.lstm1 = nn.LSTM(self.embedding_dim, hidden_dim, batch_first=True, bidirectional=True)\n",
    "        self.gru1 = nn.GRU(hidden_dim * 2, hidden_dim, bidirectional=True, batch_first=True)\n",
    "        \n",
    "        # attention layer\n",
    "        self.attention = Attention(hidden_dim*2, seq_length)\n",
    "        \n",
    "        # Second lstm and GRU layers\n",
    "        self.lstm2 = nn.LSTM(hidden_dim * 2, hidden_dim, batch_first=True, bidirectional=True)\n",
    "        self.gru2 = nn.GRU(hidden_dim * 2, hidden_dim, bidirectional=True, batch_first=True)\n",
    "        \n",
    "        # linear\n",
    "        self.fc = nn.Linear(hidden_dim * 2, 64)\n",
    "        self.out = nn.Linear(64, self.output_size)\n",
    "        \n",
    "        self.relu = nn.ReLU()\n",
    "        \n",
    "\n",
    "    def forward(self, x):\n",
    "        \"\"\"\n",
    "        Perform a forward pass of our model on some inputs.\n",
    "        \"\"\"\n",
    "        batch_size = x.size(0)\n",
    "\n",
    "        # embedding output\n",
    "        x = x.long()\n",
    "        embeds = self.embedding(x)\n",
    "        embeds = torch.squeeze(torch.unsqueeze(embeds, 0))\n",
    "        \n",
    "        # lstm, gru, and attention outputs\n",
    "        lstm_out, _ = self.lstm1(embeds)\n",
    "        gru_out, _ = self.gru1(lstm_out)\n",
    "        attention_out = self.attention(gru_out, 256)\n",
    "        attention_out = attention_out.view(batch_size, -1, self.hidden_dim * 2)\n",
    "        lstm_out, _ = self.lstm2(attention_out)\n",
    "        gru_out, _ = self.gru2(lstm_out)\n",
    "        \n",
    "        # linear outputs\n",
    "        out = gru_out.view(-1, gru_out.shape[2])\n",
    "        fc_out = self.relu(self.fc(out))\n",
    "        final_out = self.out(fc_out)\n",
    "    \n",
    "        return final_out"
   ]
  },
  {
   "cell_type": "markdown",
   "metadata": {
    "id": "tQYNz6fkjkHz"
   },
   "source": [
    "<a id='section 5.3.'></a>\n",
    "### 5.3. Instantiate the network\n",
    "Here, we'll instantiate the network. First up, defining the hyperparameters.\n",
    "\n",
    "* `weights_matrix`: The pre-trained word vector.\n",
    "* `output_size`: Size of our desired output.\n",
    "* `hidden_dim`: Number of units in the hidden layers of our LSTM/GRU cells. Usually larger is better performance wise. Common values are 128, 256, 512, etc.\n",
    "* `n_layers`: Number of LSTM/GRU layers in the network. Typically between 1-3. We use the value of 1 as our `n_layers`."
   ]
  },
  {
   "cell_type": "code",
   "execution_count": 54,
   "metadata": {
    "colab": {
     "base_uri": "https://localhost:8080/"
    },
    "id": "PN3_JDw6jkHz",
    "outputId": "ad26cec8-2ea0-4c95-c1b8-a68d18e0886f"
   },
   "outputs": [
    {
     "name": "stdout",
     "output_type": "stream",
     "text": [
      "RNN(\n",
      "  (embedding): Embedding(67429, 300)\n",
      "  (dropout): Dropout2d(p=0.1, inplace=False)\n",
      "  (lstm1): LSTM(300, 512, batch_first=True, bidirectional=True)\n",
      "  (gru1): GRU(1024, 512, batch_first=True, bidirectional=True)\n",
      "  (attention): Attention()\n",
      "  (lstm2): LSTM(1024, 512, batch_first=True, bidirectional=True)\n",
      "  (gru2): GRU(1024, 512, batch_first=True, bidirectional=True)\n",
      "  (fc): Linear(in_features=1024, out_features=64, bias=True)\n",
      "  (out): Linear(in_features=64, out_features=41, bias=True)\n",
      "  (relu): ReLU()\n",
      ")\n"
     ]
    }
   ],
   "source": [
    "# Instantiate the model w/ hyperparams\n",
    "weights_matrix = weights_matrix\n",
    "output_size = 41\n",
    "hidden_dim = 512\n",
    "\n",
    "net = RNN(weights_matrix, output_size, hidden_dim)\n",
    "\n",
    "print(net)"
   ]
  },
  {
   "cell_type": "markdown",
   "metadata": {
    "id": "bdpD1LxqjkHz"
   },
   "source": [
    "<a id='section 5.4.'></a>\n",
    "### 5.4. Training\n",
    "We use `CrossEntropyLoss` as our loss function and `SGD` as our optimizer. We also have some data and training hyparameters:\n",
    "\n",
    "* `lr`: Learning rate for our optimizer.\n",
    "* `epochs`: Number of times to iterate through the training dataset.\n",
    "* `clip`: The maximum gradient value to clip at (to prevent exploding gradients)."
   ]
  },
  {
   "cell_type": "code",
   "execution_count": 55,
   "metadata": {
    "id": "BoXTffTxjkH0"
   },
   "outputs": [],
   "source": [
    "# loss and optimization functions\n",
    "lr = 0.0001\n",
    "criterion = nn.CrossEntropyLoss()\n",
    "optimizer = torch.optim.Adam(filter(lambda p: p.requires_grad, net.parameters()), lr=lr)"
   ]
  },
  {
   "cell_type": "code",
   "execution_count": 56,
   "metadata": {
    "colab": {
     "base_uri": "https://localhost:8080/"
    },
    "id": "enO55d6VjkH0",
    "outputId": "82ec39c7-6fa2-4a6a-ad0d-12dc64835d8c"
   },
   "outputs": [
    {
     "name": "stderr",
     "output_type": "stream",
     "text": [
      "/usr/local/lib/python3.7/dist-packages/torch/utils/data/dataloader.py:481: UserWarning: This DataLoader will create 8 worker processes in total. Our suggested max number of worker in current system is 2, which is smaller than what this DataLoader is going to create. Please be aware that excessive worker creation might get DataLoader running slow or even freeze, lower the worker number to avoid potential slowness/freeze if necessary.\n",
      "  cpuset_checked))\n"
     ]
    },
    {
     "name": "stdout",
     "output_type": "stream",
     "text": [
      "Epoch: 1/20... Step: 100... Loss: 3.431576... Val Loss: 3.328114\n",
      "Epoch: 1/20... Step: 200... Loss: 3.249472... Val Loss: 3.220001\n",
      "Epoch: 1/20... Step: 300... Loss: 3.075651... Val Loss: 3.159226\n",
      "Epoch: 1/20... Step: 400... Loss: 3.160862... Val Loss: 3.051149\n",
      "Epoch: 1/20... Step: 500... Loss: 2.989924... Val Loss: 2.975384\n",
      "Epoch: 1/20... Step: 600... Loss: 3.059229... Val Loss: 2.947087\n",
      "Epoch: 2/20... Step: 700... Loss: 2.870054... Val Loss: 2.905187\n",
      "Epoch: 2/20... Step: 800... Loss: 2.833149... Val Loss: 2.880257\n",
      "Epoch: 2/20... Step: 900... Loss: 2.717892... Val Loss: 2.861768\n",
      "Epoch: 2/20... Step: 1000... Loss: 2.929293... Val Loss: 2.853133\n",
      "Epoch: 2/20... Step: 1100... Loss: 2.807823... Val Loss: 2.828025\n",
      "Epoch: 2/20... Step: 1200... Loss: 2.793565... Val Loss: 2.821392\n",
      "Epoch: 3/20... Step: 1300... Loss: 2.814023... Val Loss: 2.812144\n",
      "Epoch: 3/20... Step: 1400... Loss: 2.730699... Val Loss: 2.806000\n",
      "Epoch: 3/20... Step: 1500... Loss: 2.717376... Val Loss: 2.797158\n",
      "Epoch: 3/20... Step: 1600... Loss: 2.760563... Val Loss: 2.792615\n",
      "Epoch: 3/20... Step: 1700... Loss: 2.675250... Val Loss: 2.788516\n",
      "Epoch: 3/20... Step: 1800... Loss: 2.894325... Val Loss: 2.783998\n",
      "Epoch: 4/20... Step: 1900... Loss: 2.751348... Val Loss: 2.773042\n",
      "Epoch: 4/20... Step: 2000... Loss: 2.759671... Val Loss: 2.750501\n",
      "Epoch: 4/20... Step: 2100... Loss: 2.696232... Val Loss: 2.749092\n",
      "Epoch: 4/20... Step: 2200... Loss: 2.822870... Val Loss: 2.743371\n",
      "Epoch: 4/20... Step: 2300... Loss: 2.852969... Val Loss: 2.735286\n",
      "Epoch: 4/20... Step: 2400... Loss: 2.655398... Val Loss: 2.723202\n",
      "Epoch: 4/20... Step: 2500... Loss: 2.696161... Val Loss: 2.715785\n",
      "Epoch: 5/20... Step: 2600... Loss: 2.670454... Val Loss: 2.718601\n",
      "Epoch: 5/20... Step: 2700... Loss: 2.650766... Val Loss: 2.697562\n",
      "Epoch: 5/20... Step: 2800... Loss: 2.618091... Val Loss: 2.694637\n",
      "Epoch: 5/20... Step: 2900... Loss: 2.657557... Val Loss: 2.690789\n",
      "Epoch: 5/20... Step: 3000... Loss: 2.484217... Val Loss: 2.681245\n",
      "Epoch: 5/20... Step: 3100... Loss: 2.707058... Val Loss: 2.666848\n",
      "Epoch: 6/20... Step: 3200... Loss: 2.632946... Val Loss: 2.659943\n",
      "Epoch: 6/20... Step: 3300... Loss: 2.687320... Val Loss: 2.655992\n",
      "Epoch: 6/20... Step: 3400... Loss: 2.650739... Val Loss: 2.658210\n",
      "Epoch: 6/20... Step: 3500... Loss: 2.836118... Val Loss: 2.646023\n",
      "Epoch: 6/20... Step: 3600... Loss: 2.617976... Val Loss: 2.641794\n",
      "Epoch: 6/20... Step: 3700... Loss: 2.657355... Val Loss: 2.635617\n",
      "Epoch: 7/20... Step: 3800... Loss: 2.500143... Val Loss: 2.634298\n",
      "Epoch: 7/20... Step: 3900... Loss: 2.697993... Val Loss: 2.636335\n",
      "Epoch: 7/20... Step: 4000... Loss: 2.354988... Val Loss: 2.628057\n",
      "Epoch: 7/20... Step: 4100... Loss: 2.477694... Val Loss: 2.624267\n",
      "Epoch: 7/20... Step: 4200... Loss: 2.613936... Val Loss: 2.613902\n",
      "Epoch: 7/20... Step: 4300... Loss: 2.744856... Val Loss: 2.610385\n",
      "Epoch: 8/20... Step: 4400... Loss: 2.514747... Val Loss: 2.609247\n",
      "Epoch: 8/20... Step: 4500... Loss: 2.598404... Val Loss: 2.607973\n",
      "Epoch: 8/20... Step: 4600... Loss: 2.536469... Val Loss: 2.608949\n",
      "Epoch: 8/20... Step: 4700... Loss: 2.735078... Val Loss: 2.599905\n",
      "Epoch: 8/20... Step: 4800... Loss: 2.547407... Val Loss: 2.598055\n",
      "Epoch: 8/20... Step: 4900... Loss: 2.489773... Val Loss: 2.594115\n",
      "Epoch: 8/20... Step: 5000... Loss: 2.400217... Val Loss: 2.600008\n",
      "Epoch: 9/20... Step: 5100... Loss: 2.278127... Val Loss: 2.590563\n",
      "Epoch: 9/20... Step: 5200... Loss: 2.712010... Val Loss: 2.592525\n",
      "Epoch: 9/20... Step: 5300... Loss: 2.431495... Val Loss: 2.580841\n",
      "Epoch: 9/20... Step: 5400... Loss: 2.568836... Val Loss: 2.585523\n",
      "Epoch: 9/20... Step: 5500... Loss: 2.486644... Val Loss: 2.580597\n",
      "Epoch: 9/20... Step: 5600... Loss: 2.379640... Val Loss: 2.576168\n",
      "Epoch: 10/20... Step: 5700... Loss: 2.474512... Val Loss: 2.571479\n",
      "Epoch: 10/20... Step: 5800... Loss: 2.725991... Val Loss: 2.569565\n",
      "Epoch: 10/20... Step: 5900... Loss: 2.479649... Val Loss: 2.577954\n",
      "Epoch: 10/20... Step: 6000... Loss: 2.457489... Val Loss: 2.562915\n",
      "Epoch: 10/20... Step: 6100... Loss: 2.510424... Val Loss: 2.569947\n",
      "Epoch: 10/20... Step: 6200... Loss: 2.375523... Val Loss: 2.563086\n",
      "Epoch: 11/20... Step: 6300... Loss: 2.451791... Val Loss: 2.559964\n",
      "Epoch: 11/20... Step: 6400... Loss: 2.351061... Val Loss: 2.558434\n",
      "Epoch: 11/20... Step: 6500... Loss: 2.314785... Val Loss: 2.560337\n",
      "Epoch: 11/20... Step: 6600... Loss: 2.371902... Val Loss: 2.561218\n",
      "Epoch: 11/20... Step: 6700... Loss: 2.673897... Val Loss: 2.558472\n",
      "Epoch: 11/20... Step: 6800... Loss: 2.508666... Val Loss: 2.554357\n",
      "Epoch: 11/20... Step: 6900... Loss: 2.510670... Val Loss: 2.560462\n",
      "Epoch: 12/20... Step: 7000... Loss: 2.339777... Val Loss: 2.554391\n",
      "Epoch: 12/20... Step: 7100... Loss: 2.545374... Val Loss: 2.565099\n",
      "Epoch: 12/20... Step: 7200... Loss: 2.559565... Val Loss: 2.555615\n",
      "Epoch: 12/20... Step: 7300... Loss: 2.315462... Val Loss: 2.550133\n",
      "Epoch: 12/20... Step: 7400... Loss: 2.450587... Val Loss: 2.547437\n",
      "Epoch: 12/20... Step: 7500... Loss: 2.516280... Val Loss: 2.555960\n",
      "Epoch: 13/20... Step: 7600... Loss: 2.549312... Val Loss: 2.556118\n",
      "Epoch: 13/20... Step: 7700... Loss: 2.420372... Val Loss: 2.562420\n",
      "Epoch: 13/20... Step: 7800... Loss: 2.445712... Val Loss: 2.550396\n",
      "Epoch: 13/20... Step: 7900... Loss: 2.436282... Val Loss: 2.565668\n",
      "Epoch: 13/20... Step: 8000... Loss: 2.479798... Val Loss: 2.552438\n",
      "Epoch: 13/20... Step: 8100... Loss: 2.407766... Val Loss: 2.544716\n",
      "Epoch: 14/20... Step: 8200... Loss: 2.329393... Val Loss: 2.563534\n",
      "Epoch: 14/20... Step: 8300... Loss: 2.440709... Val Loss: 2.555118\n",
      "Epoch: 14/20... Step: 8400... Loss: 2.227335... Val Loss: 2.557573\n",
      "Epoch: 14/20... Step: 8500... Loss: 2.392884... Val Loss: 2.545666\n",
      "Epoch: 14/20... Step: 8600... Loss: 2.356850... Val Loss: 2.544117\n",
      "Epoch: 14/20... Step: 8700... Loss: 2.492881... Val Loss: 2.537797\n",
      "Epoch: 15/20... Step: 8800... Loss: 2.348404... Val Loss: 2.563095\n",
      "Epoch: 15/20... Step: 8900... Loss: 2.297111... Val Loss: 2.563755\n",
      "Epoch: 15/20... Step: 9000... Loss: 2.334682... Val Loss: 2.550382\n",
      "Epoch: 15/20... Step: 9100... Loss: 2.334329... Val Loss: 2.559511\n",
      "Epoch: 15/20... Step: 9200... Loss: 2.155532... Val Loss: 2.546973\n",
      "Epoch: 15/20... Step: 9300... Loss: 2.349775... Val Loss: 2.546967\n",
      "Epoch: 15/20... Step: 9400... Loss: 2.309222... Val Loss: 2.542727\n",
      "Epoch: 16/20... Step: 9500... Loss: 2.177070... Val Loss: 2.567733\n",
      "Epoch: 16/20... Step: 9600... Loss: 2.311062... Val Loss: 2.551876\n",
      "Epoch: 16/20... Step: 9700... Loss: 2.218067... Val Loss: 2.545165\n",
      "Epoch: 16/20... Step: 9800... Loss: 2.296099... Val Loss: 2.555029\n",
      "Epoch: 16/20... Step: 9900... Loss: 2.489275... Val Loss: 2.544696\n",
      "Epoch: 16/20... Step: 10000... Loss: 2.440761... Val Loss: 2.554071\n",
      "Epoch: 17/20... Step: 10100... Loss: 2.324838... Val Loss: 2.571991\n",
      "Epoch: 17/20... Step: 10200... Loss: 2.199255... Val Loss: 2.572934\n",
      "Epoch: 17/20... Step: 10300... Loss: 2.199609... Val Loss: 2.575584\n",
      "Epoch: 17/20... Step: 10400... Loss: 2.285710... Val Loss: 2.555936\n",
      "Epoch: 17/20... Step: 10500... Loss: 2.201335... Val Loss: 2.550380\n",
      "Epoch: 17/20... Step: 10600... Loss: 2.304073... Val Loss: 2.551379\n",
      "Epoch: 18/20... Step: 10700... Loss: 2.168094... Val Loss: 2.559525\n",
      "Epoch: 18/20... Step: 10800... Loss: 2.295786... Val Loss: 2.555722\n",
      "Epoch: 18/20... Step: 10900... Loss: 2.505016... Val Loss: 2.573926\n",
      "Epoch: 18/20... Step: 11000... Loss: 2.256284... Val Loss: 2.562660\n",
      "Epoch: 18/20... Step: 11100... Loss: 2.345128... Val Loss: 2.557241\n",
      "Epoch: 18/20... Step: 11200... Loss: 2.225886... Val Loss: 2.554173\n",
      "Epoch: 18/20... Step: 11300... Loss: 2.279292... Val Loss: 2.554312\n",
      "Epoch: 19/20... Step: 11400... Loss: 2.329305... Val Loss: 2.596198\n",
      "Epoch: 19/20... Step: 11500... Loss: 2.244329... Val Loss: 2.578064\n",
      "Epoch: 19/20... Step: 11600... Loss: 2.255284... Val Loss: 2.573339\n",
      "Epoch: 19/20... Step: 11700... Loss: 2.297704... Val Loss: 2.575288\n",
      "Epoch: 19/20... Step: 11800... Loss: 2.247163... Val Loss: 2.580600\n",
      "Epoch: 19/20... Step: 11900... Loss: 2.326533... Val Loss: 2.568683\n",
      "Epoch: 20/20... Step: 12000... Loss: 2.157099... Val Loss: 2.589814\n",
      "Epoch: 20/20... Step: 12100... Loss: 2.275159... Val Loss: 2.581984\n",
      "Epoch: 20/20... Step: 12200... Loss: 2.084198... Val Loss: 2.611743\n",
      "Epoch: 20/20... Step: 12300... Loss: 2.402922... Val Loss: 2.597330\n",
      "Epoch: 20/20... Step: 12400... Loss: 2.189209... Val Loss: 2.587706\n",
      "Epoch: 20/20... Step: 12500... Loss: 2.171569... Val Loss: 2.613717\n"
     ]
    }
   ],
   "source": [
    "# training params\n",
    "\n",
    "epochs = 20\n",
    "\n",
    "counter = 0\n",
    "print_every = 100\n",
    "clip = 5 # gradient clipping\n",
    "\n",
    "# move model to GPU, if available\n",
    "if(train_on_gpu):\n",
    "    net.cuda()\n",
    "\n",
    "net.train()\n",
    "# train for some number of epochs\n",
    "for e in range(epochs):\n",
    "\n",
    "    # batch loop\n",
    "    for inputs, labels in train_loader:\n",
    "        counter += 1\n",
    "\n",
    "        if(train_on_gpu):\n",
    "            inputs, labels = inputs.cuda(), labels.cuda()\n",
    "\n",
    "        # zero accumulated gradients\n",
    "        net.zero_grad()\n",
    "\n",
    "        # get the output from the model\n",
    "        output = net(inputs)\n",
    "\n",
    "        # calculate the loss and perform backprop\n",
    "        loss = criterion(output, labels)\n",
    "        loss.backward()\n",
    "        \n",
    "        # `clip_grad_norm` helps prevent the exploding gradient problem in RNNs / LSTMs.\n",
    "        nn.utils.clip_grad_norm_(net.parameters(), clip)\n",
    "        optimizer.step()\n",
    "\n",
    "        # loss stats\n",
    "        if counter % print_every == 0:\n",
    "            # Get validation loss\n",
    "            val_losses = []\n",
    "            net.eval()\n",
    "            for inputs, labels in valid_loader:\n",
    "\n",
    "                if(train_on_gpu):\n",
    "                    inputs, labels = inputs.cuda(), labels.cuda()\n",
    "\n",
    "                output = net(inputs)\n",
    "                val_loss = criterion(output, labels)\n",
    "\n",
    "                val_losses.append(val_loss.item())\n",
    "\n",
    "            net.train()\n",
    "            print(\"Epoch: {}/{}...\".format(e+1, epochs),\n",
    "                  \"Step: {}...\".format(counter),\n",
    "                  \"Loss: {:.6f}...\".format(loss.item()),\n",
    "                  \"Val Loss: {:.6f}\".format(np.mean(val_losses)))"
   ]
  },
  {
   "cell_type": "markdown",
   "metadata": {
    "id": "SCaQGmevjkH0"
   },
   "source": [
    "<a id='section 6.0.'></a>\n",
    "## 6.0. Predictions\n",
    "We'll see how our trained model performs on all of our defined test_data, above. We'll calculate the average loss and accuracy over the test data."
   ]
  },
  {
   "cell_type": "code",
   "execution_count": 57,
   "metadata": {
    "colab": {
     "base_uri": "https://localhost:8080/"
    },
    "id": "_O_fcuW5jkH0",
    "outputId": "7ceebecf-c828-4f23-b57f-7ca350fcaa89"
   },
   "outputs": [
    {
     "name": "stderr",
     "output_type": "stream",
     "text": [
      "/usr/local/lib/python3.7/dist-packages/torch/utils/data/dataloader.py:481: UserWarning: This DataLoader will create 8 worker processes in total. Our suggested max number of worker in current system is 2, which is smaller than what this DataLoader is going to create. Please be aware that excessive worker creation might get DataLoader running slow or even freeze, lower the worker number to avoid potential slowness/freeze if necessary.\n",
      "  cpuset_checked))\n"
     ]
    },
    {
     "name": "stdout",
     "output_type": "stream",
     "text": [
      "Test loss: 2.594\n",
      "Test accuracy: 0.327\n"
     ]
    }
   ],
   "source": [
    "# Get test data loss and accuracy\n",
    "\n",
    "test_losses = [] # track loss\n",
    "num_correct = 0\n",
    "\n",
    "net.eval()\n",
    "# iterate over test data\n",
    "for inputs, labels in test_loader:\n",
    "\n",
    "    if(train_on_gpu):\n",
    "        inputs, labels = inputs.cuda(), labels.cuda()\n",
    "    \n",
    "    # get predicted outputs\n",
    "    output = net(inputs)\n",
    "    \n",
    "    # calculate loss\n",
    "    test_loss = criterion(output, labels)\n",
    "    test_losses.append(test_loss.item())\n",
    "    \n",
    "    # convert output probabilities to predicted class (0, 1, 2, or 3)\n",
    "    pred = output.data.max(1, keepdim=True)[1]  \n",
    "    \n",
    "    # compare predictions to true label\n",
    "    correct_tensor = pred.eq(labels.view_as(pred))\n",
    "    correct = np.squeeze(correct_tensor.numpy()) if not train_on_gpu else np.squeeze(correct_tensor.cpu().numpy())\n",
    "    num_correct += np.sum(correct)\n",
    "\n",
    "\n",
    "# avg test loss\n",
    "print(\"Test loss: {:.3f}\".format(np.mean(test_losses)))\n",
    "\n",
    "# accuracy over all test data\n",
    "test_acc = num_correct/len(test_loader.dataset)\n",
    "print(\"Test accuracy: {:.3f}\".format(test_acc))"
   ]
  },
  {
   "cell_type": "markdown",
   "metadata": {
    "id": "oTbQuDtojkH1"
   },
   "source": [
    "Our mode is able to achieve **32.7% accuracy**. "
   ]
  },
  {
   "cell_type": "markdown",
   "metadata": {
    "id": "nGWkdv4ijkH1"
   },
   "source": [
    "#### Save the Model\n",
    "After running the above training cell, the trained model will be saved by name, `trained_rnn`."
   ]
  },
  {
   "cell_type": "code",
   "execution_count": 58,
   "metadata": {
    "id": "tIZy08-YjkH1"
   },
   "outputs": [],
   "source": [
    "import os\n",
    "\n",
    "def save_model(filename, decoder):\n",
    "    save_filename = os.path.splitext(os.path.basename(filename))[0] + '.pt'\n",
    "    torch.save(decoder, save_filename)"
   ]
  },
  {
   "cell_type": "code",
   "execution_count": 59,
   "metadata": {
    "colab": {
     "base_uri": "https://localhost:8080/"
    },
    "id": "PQTzjBpnjkH1",
    "outputId": "1561eb7a-31ac-4c2a-cde4-e6b3ee6e3b85",
    "scrolled": true
   },
   "outputs": [
    {
     "name": "stdout",
     "output_type": "stream",
     "text": [
      "Model Trained and Saved\n"
     ]
    }
   ],
   "source": [
    "# saving the trained model\n",
    "save_model('./save/trained_rnn', net)\n",
    "print('Model Trained and Saved')"
   ]
  },
  {
   "cell_type": "markdown",
   "metadata": {
    "id": "oMhLWogarVLw"
   },
   "source": [
    "**Run on testset**\n",
    "Run the mdodel on the 400 test set"
   ]
  }
 ],
 "metadata": {
  "accelerator": "GPU",
  "colab": {
   "name": "content_classification.ipynb",
   "provenance": []
  },
  "kernelspec": {
   "display_name": "Python 3",
   "language": "python",
   "name": "python3"
  },
  "language_info": {
   "codemirror_mode": {
    "name": "ipython",
    "version": 3
   },
   "file_extension": ".py",
   "mimetype": "text/x-python",
   "name": "python",
   "nbconvert_exporter": "python",
   "pygments_lexer": "ipython3",
   "version": "3.9.5"
  }
 },
 "nbformat": 4,
 "nbformat_minor": 1
}
